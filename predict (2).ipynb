{
  "cells": [
    {
      "cell_type": "code",
      "execution_count": 14,
      "metadata": {
        "id": "81e3HOgUJq2w"
      },
      "outputs": [],
      "source": [
        "import pandas as pd\n",
        "from sklearn.model_selection import train_test_split\n",
        "from sklearn.preprocessing import StandardScaler, OneHotEncoder\n",
        "from sklearn.compose import ColumnTransformer\n",
        "from tensorflow.keras.models import Sequential # type: ignore\n",
        "from tensorflow.keras.layers import Dense, Dropout\n",
        "from tensorflow.keras.optimizers import Adam\n",
        "import matplotlib.pyplot as plt"
      ]
    },
    {
      "cell_type": "code",
      "execution_count": null,
      "metadata": {
        "id": "XvCJ4i6GJ2Ak"
      },
      "outputs": [],
      "source": [
        "# Load dataset\n",
        "data = pd.read_csv('/content/drive/MyDrive/Performance_Prediction/Student_performance_data _.csv')\n",
        "\n",
        "# Drop unnecessary columns\n",
        "data = data.drop(columns=['StudentID', 'GradeClass'])\n",
        "\n",
        "# Features and target\n",
        "X = data.drop(columns=['GPA'])\n",
        "y = data['GPA']\n"
      ]
    },
    {
      "cell_type": "code",
      "execution_count": 16,
      "metadata": {
        "id": "PRrTzAi8J19T"
      },
      "outputs": [],
      "source": [
        "# Define categorical and numerical features\n",
        "categorical_features = ['Gender', 'Ethnicity', 'ParentalEducation', 'Tutoring', 'ParentalSupport',\n",
        "                        'Extracurricular', 'Sports', 'Music', 'Volunteering']\n",
        "numerical_features = ['Age', 'StudyTimeWeekly', 'Absences']\n",
        "\n",
        "# Preprocessing pipeline\n",
        "preprocessor = ColumnTransformer(\n",
        "    transformers=[\n",
        "        ('num', StandardScaler(), numerical_features),\n",
        "        ('cat', OneHotEncoder(), categorical_features)\n",
        "    ])\n"
      ]
    },
    {
      "cell_type": "code",
      "execution_count": 17,
      "metadata": {
        "id": "N4JZVArLJ15q"
      },
      "outputs": [],
      "source": [
        "# Split the data into training and test sets\n",
        "X_train, X_test, y_train, y_test = train_test_split(X, y, test_size=0.2, random_state=42)\n",
        "\n",
        "# Preprocess the data\n",
        "X_train_transformed = preprocessor.fit_transform(X_train)\n",
        "X_test_transformed = preprocessor.transform(X_test)"
      ]
    },
    {
      "cell_type": "code",
      "execution_count": 18,
      "metadata": {
        "colab": {
          "base_uri": "https://localhost:8080/"
        },
        "id": "Goqua0QrJ12a",
        "outputId": "9c49bb21-ca0d-492f-dc36-e549ca984523"
      },
      "outputs": [
        {
          "name": "stderr",
          "output_type": "stream",
          "text": [
            "/usr/local/lib/python3.10/dist-packages/keras/src/layers/core/dense.py:87: UserWarning: Do not pass an `input_shape`/`input_dim` argument to a layer. When using Sequential models, prefer using an `Input(shape)` object as the first layer in the model instead.\n",
            "  super().__init__(activity_regularizer=activity_regularizer, **kwargs)\n"
          ]
        }
      ],
      "source": [
        "# Build a Sequential model\n",
        "model = Sequential([\n",
        "    Dense(64, input_dim=X_train_transformed.shape[1], activation='relu'),\n",
        "    Dropout(0.3),\n",
        "    Dense(32, activation='relu'),\n",
        "    Dropout(0.3),\n",
        "    Dense(16, activation='relu'),\n",
        "    Dense(1, activation='linear')  # Single output for GPA prediction\n",
        "])\n"
      ]
    },
    {
      "cell_type": "code",
      "execution_count": 19,
      "metadata": {
        "colab": {
          "base_uri": "https://localhost:8080/"
        },
        "id": "YEW3stHiJ1y6",
        "outputId": "f4966dc9-6391-4562-d518-275b7ebe6440"
      },
      "outputs": [
        {
          "name": "stdout",
          "output_type": "stream",
          "text": [
            "Epoch 1/100\n",
            "\u001b[1m60/60\u001b[0m \u001b[32m━━━━━━━━━━━━━━━━━━━━\u001b[0m\u001b[37m\u001b[0m \u001b[1m4s\u001b[0m 15ms/step - loss: 2.3041 - mae: 1.2623 - val_loss: 0.5124 - val_mae: 0.5794\n",
            "Epoch 2/100\n",
            "\u001b[1m60/60\u001b[0m \u001b[32m━━━━━━━━━━━━━━━━━━━━\u001b[0m\u001b[37m\u001b[0m \u001b[1m1s\u001b[0m 6ms/step - loss: 0.5490 - mae: 0.5847 - val_loss: 0.1775 - val_mae: 0.3432\n",
            "Epoch 3/100\n",
            "\u001b[1m60/60\u001b[0m \u001b[32m━━━━━━━━━━━━━━━━━━━━\u001b[0m\u001b[37m\u001b[0m \u001b[1m1s\u001b[0m 8ms/step - loss: 0.3563 - mae: 0.4705 - val_loss: 0.2002 - val_mae: 0.3765\n",
            "Epoch 4/100\n",
            "\u001b[1m60/60\u001b[0m \u001b[32m━━━━━━━━━━━━━━━━━━━━\u001b[0m\u001b[37m\u001b[0m \u001b[1m1s\u001b[0m 8ms/step - loss: 0.3029 - mae: 0.4293 - val_loss: 0.1467 - val_mae: 0.3188\n",
            "Epoch 5/100\n",
            "\u001b[1m60/60\u001b[0m \u001b[32m━━━━━━━━━━━━━━━━━━━━\u001b[0m\u001b[37m\u001b[0m \u001b[1m0s\u001b[0m 6ms/step - loss: 0.2684 - mae: 0.3977 - val_loss: 0.1580 - val_mae: 0.3339\n",
            "Epoch 6/100\n",
            "\u001b[1m60/60\u001b[0m \u001b[32m━━━━━━━━━━━━━━━━━━━━\u001b[0m\u001b[37m\u001b[0m \u001b[1m1s\u001b[0m 7ms/step - loss: 0.2353 - mae: 0.3772 - val_loss: 0.1606 - val_mae: 0.3380\n",
            "Epoch 7/100\n",
            "\u001b[1m60/60\u001b[0m \u001b[32m━━━━━━━━━━━━━━━━━━━━\u001b[0m\u001b[37m\u001b[0m \u001b[1m1s\u001b[0m 7ms/step - loss: 0.2068 - mae: 0.3541 - val_loss: 0.1588 - val_mae: 0.3346\n",
            "Epoch 8/100\n",
            "\u001b[1m60/60\u001b[0m \u001b[32m━━━━━━━━━━━━━━━━━━━━\u001b[0m\u001b[37m\u001b[0m \u001b[1m1s\u001b[0m 6ms/step - loss: 0.2063 - mae: 0.3560 - val_loss: 0.2201 - val_mae: 0.4003\n",
            "Epoch 9/100\n",
            "\u001b[1m60/60\u001b[0m \u001b[32m━━━━━━━━━━━━━━━━━━━━\u001b[0m\u001b[37m\u001b[0m \u001b[1m0s\u001b[0m 6ms/step - loss: 0.1915 - mae: 0.3369 - val_loss: 0.2750 - val_mae: 0.4489\n",
            "Epoch 10/100\n",
            "\u001b[1m60/60\u001b[0m \u001b[32m━━━━━━━━━━━━━━━━━━━━\u001b[0m\u001b[37m\u001b[0m \u001b[1m0s\u001b[0m 3ms/step - loss: 0.1683 - mae: 0.3219 - val_loss: 0.1875 - val_mae: 0.3640\n",
            "Epoch 11/100\n",
            "\u001b[1m60/60\u001b[0m \u001b[32m━━━━━━━━━━━━━━━━━━━━\u001b[0m\u001b[37m\u001b[0m \u001b[1m0s\u001b[0m 4ms/step - loss: 0.1584 - mae: 0.3099 - val_loss: 0.2145 - val_mae: 0.3885\n",
            "Epoch 12/100\n",
            "\u001b[1m60/60\u001b[0m \u001b[32m━━━━━━━━━━━━━━━━━━━━\u001b[0m\u001b[37m\u001b[0m \u001b[1m0s\u001b[0m 5ms/step - loss: 0.1421 - mae: 0.2946 - val_loss: 0.1870 - val_mae: 0.3614\n",
            "Epoch 13/100\n",
            "\u001b[1m60/60\u001b[0m \u001b[32m━━━━━━━━━━━━━━━━━━━━\u001b[0m\u001b[37m\u001b[0m \u001b[1m0s\u001b[0m 4ms/step - loss: 0.1421 - mae: 0.2896 - val_loss: 0.2660 - val_mae: 0.4297\n",
            "Epoch 14/100\n",
            "\u001b[1m60/60\u001b[0m \u001b[32m━━━━━━━━━━━━━━━━━━━━\u001b[0m\u001b[37m\u001b[0m \u001b[1m0s\u001b[0m 4ms/step - loss: 0.1336 - mae: 0.2882 - val_loss: 0.1988 - val_mae: 0.3692\n",
            "Epoch 15/100\n",
            "\u001b[1m60/60\u001b[0m \u001b[32m━━━━━━━━━━━━━━━━━━━━\u001b[0m\u001b[37m\u001b[0m \u001b[1m0s\u001b[0m 5ms/step - loss: 0.1290 - mae: 0.2813 - val_loss: 0.2022 - val_mae: 0.3681\n",
            "Epoch 16/100\n",
            "\u001b[1m60/60\u001b[0m \u001b[32m━━━━━━━━━━━━━━━━━━━━\u001b[0m\u001b[37m\u001b[0m \u001b[1m1s\u001b[0m 4ms/step - loss: 0.1210 - mae: 0.2749 - val_loss: 0.1656 - val_mae: 0.3341\n",
            "Epoch 17/100\n",
            "\u001b[1m60/60\u001b[0m \u001b[32m━━━━━━━━━━━━━━━━━━━━\u001b[0m\u001b[37m\u001b[0m \u001b[1m0s\u001b[0m 3ms/step - loss: 0.1121 - mae: 0.2583 - val_loss: 0.2860 - val_mae: 0.4372\n",
            "Epoch 18/100\n",
            "\u001b[1m60/60\u001b[0m \u001b[32m━━━━━━━━━━━━━━━━━━━━\u001b[0m\u001b[37m\u001b[0m \u001b[1m0s\u001b[0m 4ms/step - loss: 0.1076 - mae: 0.2524 - val_loss: 0.1645 - val_mae: 0.3306\n",
            "Epoch 19/100\n",
            "\u001b[1m60/60\u001b[0m \u001b[32m━━━━━━━━━━━━━━━━━━━━\u001b[0m\u001b[37m\u001b[0m \u001b[1m0s\u001b[0m 3ms/step - loss: 0.1040 - mae: 0.2528 - val_loss: 0.1891 - val_mae: 0.3509\n",
            "Epoch 20/100\n",
            "\u001b[1m60/60\u001b[0m \u001b[32m━━━━━━━━━━━━━━━━━━━━\u001b[0m\u001b[37m\u001b[0m \u001b[1m0s\u001b[0m 3ms/step - loss: 0.1069 - mae: 0.2566 - val_loss: 0.2190 - val_mae: 0.3780\n",
            "Epoch 21/100\n",
            "\u001b[1m60/60\u001b[0m \u001b[32m━━━━━━━━━━━━━━━━━━━━\u001b[0m\u001b[37m\u001b[0m \u001b[1m0s\u001b[0m 5ms/step - loss: 0.1077 - mae: 0.2563 - val_loss: 0.2168 - val_mae: 0.3749\n",
            "Epoch 22/100\n",
            "\u001b[1m60/60\u001b[0m \u001b[32m━━━━━━━━━━━━━━━━━━━━\u001b[0m\u001b[37m\u001b[0m \u001b[1m1s\u001b[0m 4ms/step - loss: 0.0944 - mae: 0.2398 - val_loss: 0.1649 - val_mae: 0.3256\n",
            "Epoch 23/100\n",
            "\u001b[1m60/60\u001b[0m \u001b[32m━━━━━━━━━━━━━━━━━━━━\u001b[0m\u001b[37m\u001b[0m \u001b[1m0s\u001b[0m 5ms/step - loss: 0.0960 - mae: 0.2340 - val_loss: 0.2256 - val_mae: 0.3815\n",
            "Epoch 24/100\n",
            "\u001b[1m60/60\u001b[0m \u001b[32m━━━━━━━━━━━━━━━━━━━━\u001b[0m\u001b[37m\u001b[0m \u001b[1m1s\u001b[0m 4ms/step - loss: 0.0948 - mae: 0.2407 - val_loss: 0.2055 - val_mae: 0.3608\n",
            "Epoch 25/100\n",
            "\u001b[1m60/60\u001b[0m \u001b[32m━━━━━━━━━━━━━━━━━━━━\u001b[0m\u001b[37m\u001b[0m \u001b[1m0s\u001b[0m 3ms/step - loss: 0.0859 - mae: 0.2309 - val_loss: 0.2354 - val_mae: 0.3859\n",
            "Epoch 26/100\n",
            "\u001b[1m60/60\u001b[0m \u001b[32m━━━━━━━━━━━━━━━━━━━━\u001b[0m\u001b[37m\u001b[0m \u001b[1m0s\u001b[0m 5ms/step - loss: 0.0837 - mae: 0.2276 - val_loss: 0.2062 - val_mae: 0.3602\n",
            "Epoch 27/100\n",
            "\u001b[1m60/60\u001b[0m \u001b[32m━━━━━━━━━━━━━━━━━━━━\u001b[0m\u001b[37m\u001b[0m \u001b[1m1s\u001b[0m 4ms/step - loss: 0.0885 - mae: 0.2317 - val_loss: 0.2132 - val_mae: 0.3653\n",
            "Epoch 28/100\n",
            "\u001b[1m60/60\u001b[0m \u001b[32m━━━━━━━━━━━━━━━━━━━━\u001b[0m\u001b[37m\u001b[0m \u001b[1m0s\u001b[0m 5ms/step - loss: 0.0818 - mae: 0.2245 - val_loss: 0.2150 - val_mae: 0.3670\n",
            "Epoch 29/100\n",
            "\u001b[1m60/60\u001b[0m \u001b[32m━━━━━━━━━━━━━━━━━━━━\u001b[0m\u001b[37m\u001b[0m \u001b[1m1s\u001b[0m 6ms/step - loss: 0.0896 - mae: 0.2349 - val_loss: 0.1457 - val_mae: 0.3030\n",
            "Epoch 30/100\n",
            "\u001b[1m60/60\u001b[0m \u001b[32m━━━━━━━━━━━━━━━━━━━━\u001b[0m\u001b[37m\u001b[0m \u001b[1m1s\u001b[0m 6ms/step - loss: 0.0774 - mae: 0.2202 - val_loss: 0.1996 - val_mae: 0.3538\n",
            "Epoch 31/100\n",
            "\u001b[1m60/60\u001b[0m \u001b[32m━━━━━━━━━━━━━━━━━━━━\u001b[0m\u001b[37m\u001b[0m \u001b[1m1s\u001b[0m 7ms/step - loss: 0.0845 - mae: 0.2289 - val_loss: 0.2005 - val_mae: 0.3533\n",
            "Epoch 32/100\n",
            "\u001b[1m60/60\u001b[0m \u001b[32m━━━━━━━━━━━━━━━━━━━━\u001b[0m\u001b[37m\u001b[0m \u001b[1m1s\u001b[0m 7ms/step - loss: 0.0767 - mae: 0.2165 - val_loss: 0.1527 - val_mae: 0.3089\n",
            "Epoch 33/100\n",
            "\u001b[1m60/60\u001b[0m \u001b[32m━━━━━━━━━━━━━━━━━━━━\u001b[0m\u001b[37m\u001b[0m \u001b[1m1s\u001b[0m 6ms/step - loss: 0.0764 - mae: 0.2172 - val_loss: 0.1622 - val_mae: 0.3212\n",
            "Epoch 34/100\n",
            "\u001b[1m60/60\u001b[0m \u001b[32m━━━━━━━━━━━━━━━━━━━━\u001b[0m\u001b[37m\u001b[0m \u001b[1m1s\u001b[0m 7ms/step - loss: 0.0786 - mae: 0.2186 - val_loss: 0.2025 - val_mae: 0.3566\n",
            "Epoch 35/100\n",
            "\u001b[1m60/60\u001b[0m \u001b[32m━━━━━━━━━━━━━━━━━━━━\u001b[0m\u001b[37m\u001b[0m \u001b[1m0s\u001b[0m 3ms/step - loss: 0.0753 - mae: 0.2133 - val_loss: 0.1721 - val_mae: 0.3281\n",
            "Epoch 36/100\n",
            "\u001b[1m60/60\u001b[0m \u001b[32m━━━━━━━━━━━━━━━━━━━━\u001b[0m\u001b[37m\u001b[0m \u001b[1m0s\u001b[0m 4ms/step - loss: 0.0757 - mae: 0.2141 - val_loss: 0.1543 - val_mae: 0.3104\n",
            "Epoch 37/100\n",
            "\u001b[1m60/60\u001b[0m \u001b[32m━━━━━━━━━━━━━━━━━━━━\u001b[0m\u001b[37m\u001b[0m \u001b[1m0s\u001b[0m 5ms/step - loss: 0.0703 - mae: 0.2069 - val_loss: 0.1749 - val_mae: 0.3294\n",
            "Epoch 38/100\n",
            "\u001b[1m60/60\u001b[0m \u001b[32m━━━━━━━━━━━━━━━━━━━━\u001b[0m\u001b[37m\u001b[0m \u001b[1m1s\u001b[0m 3ms/step - loss: 0.0746 - mae: 0.2152 - val_loss: 0.2015 - val_mae: 0.3534\n",
            "Epoch 39/100\n",
            "\u001b[1m60/60\u001b[0m \u001b[32m━━━━━━━━━━━━━━━━━━━━\u001b[0m\u001b[37m\u001b[0m \u001b[1m0s\u001b[0m 5ms/step - loss: 0.0775 - mae: 0.2165 - val_loss: 0.1529 - val_mae: 0.3098\n",
            "Epoch 40/100\n",
            "\u001b[1m60/60\u001b[0m \u001b[32m━━━━━━━━━━━━━━━━━━━━\u001b[0m\u001b[37m\u001b[0m \u001b[1m1s\u001b[0m 4ms/step - loss: 0.0788 - mae: 0.2167 - val_loss: 0.1589 - val_mae: 0.3145\n",
            "Epoch 41/100\n",
            "\u001b[1m60/60\u001b[0m \u001b[32m━━━━━━━━━━━━━━━━━━━━\u001b[0m\u001b[37m\u001b[0m \u001b[1m0s\u001b[0m 5ms/step - loss: 0.0673 - mae: 0.1969 - val_loss: 0.1414 - val_mae: 0.2990\n",
            "Epoch 42/100\n",
            "\u001b[1m60/60\u001b[0m \u001b[32m━━━━━━━━━━━━━━━━━━━━\u001b[0m\u001b[37m\u001b[0m \u001b[1m1s\u001b[0m 3ms/step - loss: 0.0660 - mae: 0.2020 - val_loss: 0.1752 - val_mae: 0.3317\n",
            "Epoch 43/100\n",
            "\u001b[1m60/60\u001b[0m \u001b[32m━━━━━━━━━━━━━━━━━━━━\u001b[0m\u001b[37m\u001b[0m \u001b[1m0s\u001b[0m 3ms/step - loss: 0.0641 - mae: 0.1983 - val_loss: 0.1825 - val_mae: 0.3379\n",
            "Epoch 44/100\n",
            "\u001b[1m60/60\u001b[0m \u001b[32m━━━━━━━━━━━━━━━━━━━━\u001b[0m\u001b[37m\u001b[0m \u001b[1m0s\u001b[0m 5ms/step - loss: 0.0683 - mae: 0.2070 - val_loss: 0.1816 - val_mae: 0.3356\n",
            "Epoch 45/100\n",
            "\u001b[1m60/60\u001b[0m \u001b[32m━━━━━━━━━━━━━━━━━━━━\u001b[0m\u001b[37m\u001b[0m \u001b[1m0s\u001b[0m 5ms/step - loss: 0.0668 - mae: 0.2031 - val_loss: 0.1605 - val_mae: 0.3178\n",
            "Epoch 46/100\n",
            "\u001b[1m60/60\u001b[0m \u001b[32m━━━━━━━━━━━━━━━━━━━━\u001b[0m\u001b[37m\u001b[0m \u001b[1m0s\u001b[0m 4ms/step - loss: 0.0669 - mae: 0.2015 - val_loss: 0.1761 - val_mae: 0.3311\n",
            "Epoch 47/100\n",
            "\u001b[1m60/60\u001b[0m \u001b[32m━━━━━━━━━━━━━━━━━━━━\u001b[0m\u001b[37m\u001b[0m \u001b[1m0s\u001b[0m 5ms/step - loss: 0.0643 - mae: 0.2020 - val_loss: 0.1690 - val_mae: 0.3263\n",
            "Epoch 48/100\n",
            "\u001b[1m60/60\u001b[0m \u001b[32m━━━━━━━━━━━━━━━━━━━━\u001b[0m\u001b[37m\u001b[0m \u001b[1m0s\u001b[0m 3ms/step - loss: 0.0652 - mae: 0.2021 - val_loss: 0.1646 - val_mae: 0.3218\n",
            "Epoch 49/100\n",
            "\u001b[1m60/60\u001b[0m \u001b[32m━━━━━━━━━━━━━━━━━━━━\u001b[0m\u001b[37m\u001b[0m \u001b[1m0s\u001b[0m 3ms/step - loss: 0.0613 - mae: 0.1932 - val_loss: 0.1374 - val_mae: 0.2941\n",
            "Epoch 50/100\n",
            "\u001b[1m60/60\u001b[0m \u001b[32m━━━━━━━━━━━━━━━━━━━━\u001b[0m\u001b[37m\u001b[0m \u001b[1m0s\u001b[0m 3ms/step - loss: 0.0670 - mae: 0.2011 - val_loss: 0.1387 - val_mae: 0.2945\n",
            "Epoch 51/100\n",
            "\u001b[1m60/60\u001b[0m \u001b[32m━━━━━━━━━━━━━━━━━━━━\u001b[0m\u001b[37m\u001b[0m \u001b[1m0s\u001b[0m 4ms/step - loss: 0.0689 - mae: 0.2065 - val_loss: 0.1747 - val_mae: 0.3293\n",
            "Epoch 52/100\n",
            "\u001b[1m60/60\u001b[0m \u001b[32m━━━━━━━━━━━━━━━━━━━━\u001b[0m\u001b[37m\u001b[0m \u001b[1m0s\u001b[0m 3ms/step - loss: 0.0576 - mae: 0.1902 - val_loss: 0.1552 - val_mae: 0.3104\n",
            "Epoch 53/100\n",
            "\u001b[1m60/60\u001b[0m \u001b[32m━━━━━━━━━━━━━━━━━━━━\u001b[0m\u001b[37m\u001b[0m \u001b[1m0s\u001b[0m 4ms/step - loss: 0.0561 - mae: 0.1877 - val_loss: 0.1580 - val_mae: 0.3131\n",
            "Epoch 54/100\n",
            "\u001b[1m60/60\u001b[0m \u001b[32m━━━━━━━━━━━━━━━━━━━━\u001b[0m\u001b[37m\u001b[0m \u001b[1m0s\u001b[0m 3ms/step - loss: 0.0576 - mae: 0.1911 - val_loss: 0.1521 - val_mae: 0.3084\n",
            "Epoch 55/100\n",
            "\u001b[1m60/60\u001b[0m \u001b[32m━━━━━━━━━━━━━━━━━━━━\u001b[0m\u001b[37m\u001b[0m \u001b[1m0s\u001b[0m 3ms/step - loss: 0.0615 - mae: 0.1949 - val_loss: 0.1201 - val_mae: 0.2763\n",
            "Epoch 56/100\n",
            "\u001b[1m60/60\u001b[0m \u001b[32m━━━━━━━━━━━━━━━━━━━━\u001b[0m\u001b[37m\u001b[0m \u001b[1m0s\u001b[0m 4ms/step - loss: 0.0587 - mae: 0.1878 - val_loss: 0.1505 - val_mae: 0.3073\n",
            "Epoch 57/100\n",
            "\u001b[1m60/60\u001b[0m \u001b[32m━━━━━━━━━━━━━━━━━━━━\u001b[0m\u001b[37m\u001b[0m \u001b[1m0s\u001b[0m 3ms/step - loss: 0.0556 - mae: 0.1869 - val_loss: 0.1427 - val_mae: 0.2995\n",
            "Epoch 58/100\n",
            "\u001b[1m60/60\u001b[0m \u001b[32m━━━━━━━━━━━━━━━━━━━━\u001b[0m\u001b[37m\u001b[0m \u001b[1m0s\u001b[0m 3ms/step - loss: 0.0560 - mae: 0.1874 - val_loss: 0.1216 - val_mae: 0.2775\n",
            "Epoch 59/100\n",
            "\u001b[1m60/60\u001b[0m \u001b[32m━━━━━━━━━━━━━━━━━━━━\u001b[0m\u001b[37m\u001b[0m \u001b[1m1s\u001b[0m 8ms/step - loss: 0.0612 - mae: 0.2002 - val_loss: 0.1389 - val_mae: 0.2954\n",
            "Epoch 60/100\n",
            "\u001b[1m60/60\u001b[0m \u001b[32m━━━━━━━━━━━━━━━━━━━━\u001b[0m\u001b[37m\u001b[0m \u001b[1m1s\u001b[0m 10ms/step - loss: 0.0574 - mae: 0.1906 - val_loss: 0.1460 - val_mae: 0.3030\n",
            "Epoch 61/100\n",
            "\u001b[1m60/60\u001b[0m \u001b[32m━━━━━━━━━━━━━━━━━━━━\u001b[0m\u001b[37m\u001b[0m \u001b[1m2s\u001b[0m 16ms/step - loss: 0.0595 - mae: 0.1915 - val_loss: 0.1481 - val_mae: 0.3036\n",
            "Epoch 62/100\n",
            "\u001b[1m60/60\u001b[0m \u001b[32m━━━━━━━━━━━━━━━━━━━━\u001b[0m\u001b[37m\u001b[0m \u001b[1m1s\u001b[0m 15ms/step - loss: 0.0565 - mae: 0.1865 - val_loss: 0.1449 - val_mae: 0.2997\n",
            "Epoch 63/100\n",
            "\u001b[1m60/60\u001b[0m \u001b[32m━━━━━━━━━━━━━━━━━━━━\u001b[0m\u001b[37m\u001b[0m \u001b[1m1s\u001b[0m 11ms/step - loss: 0.0603 - mae: 0.1932 - val_loss: 0.1439 - val_mae: 0.2987\n",
            "Epoch 64/100\n",
            "\u001b[1m60/60\u001b[0m \u001b[32m━━━━━━━━━━━━━━━━━━━━\u001b[0m\u001b[37m\u001b[0m \u001b[1m1s\u001b[0m 13ms/step - loss: 0.0532 - mae: 0.1803 - val_loss: 0.1511 - val_mae: 0.3064\n",
            "Epoch 65/100\n",
            "\u001b[1m60/60\u001b[0m \u001b[32m━━━━━━━━━━━━━━━━━━━━\u001b[0m\u001b[37m\u001b[0m \u001b[1m1s\u001b[0m 16ms/step - loss: 0.0558 - mae: 0.1867 - val_loss: 0.1439 - val_mae: 0.3001\n",
            "Epoch 66/100\n",
            "\u001b[1m60/60\u001b[0m \u001b[32m━━━━━━━━━━━━━━━━━━━━\u001b[0m\u001b[37m\u001b[0m \u001b[1m1s\u001b[0m 11ms/step - loss: 0.0561 - mae: 0.1880 - val_loss: 0.1385 - val_mae: 0.2936\n",
            "Epoch 67/100\n",
            "\u001b[1m60/60\u001b[0m \u001b[32m━━━━━━━━━━━━━━━━━━━━\u001b[0m\u001b[37m\u001b[0m \u001b[1m1s\u001b[0m 5ms/step - loss: 0.0526 - mae: 0.1808 - val_loss: 0.1603 - val_mae: 0.3146\n",
            "Epoch 68/100\n",
            "\u001b[1m60/60\u001b[0m \u001b[32m━━━━━━━━━━━━━━━━━━━━\u001b[0m\u001b[37m\u001b[0m \u001b[1m1s\u001b[0m 8ms/step - loss: 0.0524 - mae: 0.1783 - val_loss: 0.1436 - val_mae: 0.3001\n",
            "Epoch 69/100\n",
            "\u001b[1m60/60\u001b[0m \u001b[32m━━━━━━━━━━━━━━━━━━━━\u001b[0m\u001b[37m\u001b[0m \u001b[1m1s\u001b[0m 12ms/step - loss: 0.0534 - mae: 0.1843 - val_loss: 0.1412 - val_mae: 0.2956\n",
            "Epoch 70/100\n",
            "\u001b[1m60/60\u001b[0m \u001b[32m━━━━━━━━━━━━━━━━━━━━\u001b[0m\u001b[37m\u001b[0m \u001b[1m1s\u001b[0m 9ms/step - loss: 0.0571 - mae: 0.1879 - val_loss: 0.1390 - val_mae: 0.2940\n",
            "Epoch 71/100\n",
            "\u001b[1m60/60\u001b[0m \u001b[32m━━━━━━━━━━━━━━━━━━━━\u001b[0m\u001b[37m\u001b[0m \u001b[1m1s\u001b[0m 9ms/step - loss: 0.0558 - mae: 0.1861 - val_loss: 0.1471 - val_mae: 0.3019\n",
            "Epoch 72/100\n",
            "\u001b[1m60/60\u001b[0m \u001b[32m━━━━━━━━━━━━━━━━━━━━\u001b[0m\u001b[37m\u001b[0m \u001b[1m1s\u001b[0m 12ms/step - loss: 0.0551 - mae: 0.1856 - val_loss: 0.1057 - val_mae: 0.2590\n",
            "Epoch 73/100\n",
            "\u001b[1m60/60\u001b[0m \u001b[32m━━━━━━━━━━━━━━━━━━━━\u001b[0m\u001b[37m\u001b[0m \u001b[1m1s\u001b[0m 7ms/step - loss: 0.0584 - mae: 0.1902 - val_loss: 0.1305 - val_mae: 0.2864\n",
            "Epoch 74/100\n",
            "\u001b[1m60/60\u001b[0m \u001b[32m━━━━━━━━━━━━━━━━━━━━\u001b[0m\u001b[37m\u001b[0m \u001b[1m1s\u001b[0m 11ms/step - loss: 0.0512 - mae: 0.1796 - val_loss: 0.1440 - val_mae: 0.2992\n",
            "Epoch 75/100\n",
            "\u001b[1m60/60\u001b[0m \u001b[32m━━━━━━━━━━━━━━━━━━━━\u001b[0m\u001b[37m\u001b[0m \u001b[1m1s\u001b[0m 5ms/step - loss: 0.0514 - mae: 0.1786 - val_loss: 0.1297 - val_mae: 0.2851\n",
            "Epoch 76/100\n",
            "\u001b[1m60/60\u001b[0m \u001b[32m━━━━━━━━━━━━━━━━━━━━\u001b[0m\u001b[37m\u001b[0m \u001b[1m1s\u001b[0m 6ms/step - loss: 0.0508 - mae: 0.1790 - val_loss: 0.1421 - val_mae: 0.2978\n",
            "Epoch 77/100\n",
            "\u001b[1m60/60\u001b[0m \u001b[32m━━━━━━━━━━━━━━━━━━━━\u001b[0m\u001b[37m\u001b[0m \u001b[1m1s\u001b[0m 6ms/step - loss: 0.0508 - mae: 0.1779 - val_loss: 0.1584 - val_mae: 0.3126\n",
            "Epoch 78/100\n",
            "\u001b[1m60/60\u001b[0m \u001b[32m━━━━━━━━━━━━━━━━━━━━\u001b[0m\u001b[37m\u001b[0m \u001b[1m0s\u001b[0m 6ms/step - loss: 0.0512 - mae: 0.1750 - val_loss: 0.1179 - val_mae: 0.2721\n",
            "Epoch 79/100\n",
            "\u001b[1m60/60\u001b[0m \u001b[32m━━━━━━━━━━━━━━━━━━━━\u001b[0m\u001b[37m\u001b[0m \u001b[1m1s\u001b[0m 8ms/step - loss: 0.0501 - mae: 0.1753 - val_loss: 0.1354 - val_mae: 0.2904\n",
            "Epoch 80/100\n",
            "\u001b[1m60/60\u001b[0m \u001b[32m━━━━━━━━━━━━━━━━━━━━\u001b[0m\u001b[37m\u001b[0m \u001b[1m0s\u001b[0m 8ms/step - loss: 0.0494 - mae: 0.1746 - val_loss: 0.1285 - val_mae: 0.2850\n",
            "Epoch 81/100\n",
            "\u001b[1m60/60\u001b[0m \u001b[32m━━━━━━━━━━━━━━━━━━━━\u001b[0m\u001b[37m\u001b[0m \u001b[1m1s\u001b[0m 7ms/step - loss: 0.0486 - mae: 0.1721 - val_loss: 0.1180 - val_mae: 0.2724\n",
            "Epoch 82/100\n",
            "\u001b[1m60/60\u001b[0m \u001b[32m━━━━━━━━━━━━━━━━━━━━\u001b[0m\u001b[37m\u001b[0m \u001b[1m0s\u001b[0m 4ms/step - loss: 0.0522 - mae: 0.1828 - val_loss: 0.1435 - val_mae: 0.2980\n",
            "Epoch 83/100\n",
            "\u001b[1m60/60\u001b[0m \u001b[32m━━━━━━━━━━━━━━━━━━━━\u001b[0m\u001b[37m\u001b[0m \u001b[1m0s\u001b[0m 5ms/step - loss: 0.0509 - mae: 0.1792 - val_loss: 0.1180 - val_mae: 0.2713\n",
            "Epoch 84/100\n",
            "\u001b[1m60/60\u001b[0m \u001b[32m━━━━━━━━━━━━━━━━━━━━\u001b[0m\u001b[37m\u001b[0m \u001b[1m1s\u001b[0m 4ms/step - loss: 0.0515 - mae: 0.1749 - val_loss: 0.1175 - val_mae: 0.2707\n",
            "Epoch 85/100\n",
            "\u001b[1m60/60\u001b[0m \u001b[32m━━━━━━━━━━━━━━━━━━━━\u001b[0m\u001b[37m\u001b[0m \u001b[1m0s\u001b[0m 3ms/step - loss: 0.0470 - mae: 0.1715 - val_loss: 0.1216 - val_mae: 0.2762\n",
            "Epoch 86/100\n",
            "\u001b[1m60/60\u001b[0m \u001b[32m━━━━━━━━━━━━━━━━━━━━\u001b[0m\u001b[37m\u001b[0m \u001b[1m0s\u001b[0m 4ms/step - loss: 0.0479 - mae: 0.1755 - val_loss: 0.1197 - val_mae: 0.2745\n",
            "Epoch 87/100\n",
            "\u001b[1m60/60\u001b[0m \u001b[32m━━━━━━━━━━━━━━━━━━━━\u001b[0m\u001b[37m\u001b[0m \u001b[1m0s\u001b[0m 4ms/step - loss: 0.0481 - mae: 0.1731 - val_loss: 0.1024 - val_mae: 0.2561\n",
            "Epoch 88/100\n",
            "\u001b[1m60/60\u001b[0m \u001b[32m━━━━━━━━━━━━━━━━━━━━\u001b[0m\u001b[37m\u001b[0m \u001b[1m0s\u001b[0m 3ms/step - loss: 0.0453 - mae: 0.1659 - val_loss: 0.1315 - val_mae: 0.2877\n",
            "Epoch 89/100\n",
            "\u001b[1m60/60\u001b[0m \u001b[32m━━━━━━━━━━━━━━━━━━━━\u001b[0m\u001b[37m\u001b[0m \u001b[1m0s\u001b[0m 5ms/step - loss: 0.0433 - mae: 0.1663 - val_loss: 0.1268 - val_mae: 0.2827\n",
            "Epoch 90/100\n",
            "\u001b[1m60/60\u001b[0m \u001b[32m━━━━━━━━━━━━━━━━━━━━\u001b[0m\u001b[37m\u001b[0m \u001b[1m0s\u001b[0m 3ms/step - loss: 0.0519 - mae: 0.1786 - val_loss: 0.1382 - val_mae: 0.2940\n",
            "Epoch 91/100\n",
            "\u001b[1m60/60\u001b[0m \u001b[32m━━━━━━━━━━━━━━━━━━━━\u001b[0m\u001b[37m\u001b[0m \u001b[1m0s\u001b[0m 3ms/step - loss: 0.0497 - mae: 0.1751 - val_loss: 0.1247 - val_mae: 0.2788\n",
            "Epoch 92/100\n",
            "\u001b[1m60/60\u001b[0m \u001b[32m━━━━━━━━━━━━━━━━━━━━\u001b[0m\u001b[37m\u001b[0m \u001b[1m0s\u001b[0m 4ms/step - loss: 0.0452 - mae: 0.1658 - val_loss: 0.1172 - val_mae: 0.2720\n",
            "Epoch 93/100\n",
            "\u001b[1m60/60\u001b[0m \u001b[32m━━━━━━━━━━━━━━━━━━━━\u001b[0m\u001b[37m\u001b[0m \u001b[1m0s\u001b[0m 4ms/step - loss: 0.0436 - mae: 0.1653 - val_loss: 0.1094 - val_mae: 0.2638\n",
            "Epoch 94/100\n",
            "\u001b[1m60/60\u001b[0m \u001b[32m━━━━━━━━━━━━━━━━━━━━\u001b[0m\u001b[37m\u001b[0m \u001b[1m0s\u001b[0m 4ms/step - loss: 0.0459 - mae: 0.1707 - val_loss: 0.1272 - val_mae: 0.2821\n",
            "Epoch 95/100\n",
            "\u001b[1m60/60\u001b[0m \u001b[32m━━━━━━━━━━━━━━━━━━━━\u001b[0m\u001b[37m\u001b[0m \u001b[1m0s\u001b[0m 3ms/step - loss: 0.0475 - mae: 0.1717 - val_loss: 0.1066 - val_mae: 0.2610\n",
            "Epoch 96/100\n",
            "\u001b[1m60/60\u001b[0m \u001b[32m━━━━━━━━━━━━━━━━━━━━\u001b[0m\u001b[37m\u001b[0m \u001b[1m0s\u001b[0m 4ms/step - loss: 0.0463 - mae: 0.1721 - val_loss: 0.1433 - val_mae: 0.3006\n",
            "Epoch 97/100\n",
            "\u001b[1m60/60\u001b[0m \u001b[32m━━━━━━━━━━━━━━━━━━━━\u001b[0m\u001b[37m\u001b[0m \u001b[1m0s\u001b[0m 3ms/step - loss: 0.0470 - mae: 0.1679 - val_loss: 0.1178 - val_mae: 0.2723\n",
            "Epoch 98/100\n",
            "\u001b[1m60/60\u001b[0m \u001b[32m━━━━━━━━━━━━━━━━━━━━\u001b[0m\u001b[37m\u001b[0m \u001b[1m0s\u001b[0m 3ms/step - loss: 0.0469 - mae: 0.1726 - val_loss: 0.1364 - val_mae: 0.2913\n",
            "Epoch 99/100\n",
            "\u001b[1m60/60\u001b[0m \u001b[32m━━━━━━━━━━━━━━━━━━━━\u001b[0m\u001b[37m\u001b[0m \u001b[1m0s\u001b[0m 4ms/step - loss: 0.0448 - mae: 0.1689 - val_loss: 0.1230 - val_mae: 0.2781\n",
            "Epoch 100/100\n",
            "\u001b[1m60/60\u001b[0m \u001b[32m━━━━━━━━━━━━━━━━━━━━\u001b[0m\u001b[37m\u001b[0m \u001b[1m0s\u001b[0m 3ms/step - loss: 0.0463 - mae: 0.1704 - val_loss: 0.1277 - val_mae: 0.2825\n"
          ]
        }
      ],
      "source": [
        "# Compile the model\n",
        "model.compile(optimizer=Adam(learning_rate=0.001), loss='mean_squared_error', metrics=['mae'])\n",
        "\n",
        "# Train the model\n",
        "history = model.fit(X_train_transformed, y_train, epochs=100, validation_data=(X_test_transformed, y_test), verbose=1)\n",
        "\n",
        "# Evaluate the model\n",
        "test_loss, test_mae = model.evaluate(X_test_transformed, y_test, verbose=0)"
      ]
    },
    {
      "cell_type": "code",
      "execution_count": 20,
      "metadata": {
        "colab": {
          "base_uri": "https://localhost:8080/",
          "height": 504
        },
        "id": "WbtCm7krJ1tr",
        "outputId": "6294507c-c1a2-4ed6-8e7e-7662fb2e110a"
      },
      "outputs": [
        {
          "data": {
            "image/png": "[encoded data removed]",
            "text/plain": [
              "<Figure size 1200x500 with 2 Axes>"
            ]
          },
          "metadata": {},
          "output_type": "display_data"
        },
        {
          "name": "stdout",
          "output_type": "stream",
          "text": [
            "Test MAE: 0.2825484275817871\n"
          ]
        }
      ],
      "source": [
        "# Plot training history\n",
        "plt.figure(figsize=(12, 5))\n",
        "plt.subplot(1, 2, 1)\n",
        "plt.plot(history.history['mae'], label='Train MAE')\n",
        "plt.plot(history.history['val_mae'], label='Validation MAE')\n",
        "plt.title('Model Mean Absolute Error')\n",
        "plt.xlabel('Epochs')\n",
        "plt.ylabel('MAE')\n",
        "plt.legend()\n",
        "\n",
        "plt.subplot(1, 2, 2)\n",
        "plt.plot(history.history['loss'], label='Train Loss')\n",
        "plt.plot(history.history['val_loss'], label='Validation Loss')\n",
        "plt.title('Model Loss')\n",
        "plt.xlabel('Epochs')\n",
        "plt.ylabel('Loss')\n",
        "plt.legend()\n",
        "\n",
        "plt.show()\n",
        "\n",
        "# Output results\n",
        "print(f\"Test MAE: {test_mae}\")"
      ]
    },
    {
      "cell_type": "code",
      "execution_count": 21,
      "metadata": {
        "colab": {
          "base_uri": "https://localhost:8080/"
        },
        "id": "vxiRk19It3zb",
        "outputId": "a1140fcf-3032-451e-b24e-c4a17446e359"
      },
      "outputs": [
        {
          "name": "stdout",
          "output_type": "stream",
          "text": [
            "\u001b[1m1/1\u001b[0m \u001b[32m━━━━━━━━━━━━━━━━━━━━\u001b[0m\u001b[37m\u001b[0m \u001b[1m0s\u001b[0m 77ms/step\n",
            "Predicted GPA: 2.62\n"
          ]
        }
      ],
      "source": [
        "# Example new student data (modify with actual values)\n",
        "new_student = pd.DataFrame({\n",
        "    'Age': [16],\n",
        "    'Gender': [1],  # Example: 1 for Male, 0 for Female\n",
        "    'Ethnicity': [2],  # Coded as in the dataset\n",
        "    'ParentalEducation': [3],\n",
        "    'StudyTimeWeekly': [10],  # Example: 10 hours per week\n",
        "    'Absences': [5],  # Example: 5 absences\n",
        "    'Tutoring': [1],  # Example: 1 (yes)\n",
        "    'ParentalSupport': [2],\n",
        "    'Extracurricular': [1],\n",
        "    'Sports': [0],\n",
        "    'Music': [1],\n",
        "    'Volunteering': [0]\n",
        "})\n",
        "\n",
        "# Preprocess the new student data\n",
        "new_student_transformed = preprocessor.transform(new_student)\n",
        "\n",
        "# Predict GPA\n",
        "predicted_gpa = model.predict(new_student_transformed)\n",
        "print(f\"Predicted GPA: {predicted_gpa[0][0]:.2f}\")\n"
      ]
    },
    {
      "cell_type": "code",
      "execution_count": 22,
      "metadata": {
        "colab": {
          "base_uri": "https://localhost:8080/"
        },
        "id": "Qp4RRSm2uAf3",
        "outputId": "8e5d43ae-406c-4124-b7d6-3c22453554a8"
      },
      "outputs": [
        {
          "name": "stdout",
          "output_type": "stream",
          "text": [
            "\u001b[1m1/1\u001b[0m \u001b[32m━━━━━━━━━━━━━━━━━━━━\u001b[0m\u001b[37m\u001b[0m \u001b[1m0s\u001b[0m 71ms/step\n",
            "Predicted GPA for student 1: 2.62\n",
            "Predicted GPA for student 2: 2.65\n"
          ]
        }
      ],
      "source": [
        "# Example DataFrame with multiple students\n",
        "new_students = pd.DataFrame({\n",
        "    'Age': [16, 17],\n",
        "    'Gender': [1, 0],\n",
        "    'Ethnicity': [2, 1],\n",
        "    'ParentalEducation': [3, 2],\n",
        "    'StudyTimeWeekly': [10, 15],\n",
        "    'Absences': [5, 3],\n",
        "    'Tutoring': [1, 0],\n",
        "    'ParentalSupport': [2, 3],\n",
        "    'Extracurricular': [1, 0],\n",
        "    'Sports': [0, 1],\n",
        "    'Music': [1, 0],\n",
        "    'Volunteering': [0, 1]\n",
        "})\n",
        "\n",
        "# Preprocess and predict\n",
        "new_students_transformed = preprocessor.transform(new_students)\n",
        "predicted_gpas = model.predict(new_students_transformed)\n",
        "\n",
        "# Display results\n",
        "for i, gpa in enumerate(predicted_gpas):\n",
        "    print(f\"Predicted GPA for student {i+1}: {gpa[0]:.2f}\")\n"
      ]
    },
    {
      "cell_type": "code",
      "execution_count": 25,
      "metadata": {
        "colab": {
          "base_uri": "https://localhost:8080/"
        },
        "id": "DGCDo7D44WxV",
        "outputId": "02274a4e-ac50-4efe-9655-980790f0a9f8"
      },
      "outputs": [
        {
          "name": "stderr",
          "output_type": "stream",
          "text": [
            "WARNING:absl:You are saving your model as an HDF5 file via `model.save()` or `keras.saving.save_model(model)`. This file format is considered legacy. We recommend using instead the native Keras format, e.g. `model.save('my_model.keras')` or `keras.saving.save_model(model, 'my_model.keras')`. \n"
          ]
        },
        {
          "data": {
            "text/plain": [
              "['preprocessor.pkl']"
            ]
          },
          "execution_count": 25,
          "metadata": {},
          "output_type": "execute_result"
        }
      ],
      "source": [
        "import joblib\n",
        "model.save('student_gpa_predictor.h5')\n",
        "joblib.dump(preprocessor, 'preprocessor.pkl')\n"
      ]
    },
    {
      "cell_type": "code",
      "execution_count": 23,
      "metadata": {
        "colab": {
          "base_uri": "https://localhost:8080/"
        },
        "id": "ayDtpeLLPNvR",
        "outputId": "53d70c23-6978-4661-8c03-77c78a9bc5a8"
      },
      "outputs": [
        {
          "name": "stdout",
          "output_type": "stream",
          "text": [
            "Drive already mounted at /content/drive; to attempt to forcibly remount, call drive.mount(\"/content/drive\", force_remount=True).\n"
          ]
        }
      ],
      "source": [
        "from google.colab import drive\n",
        "drive.mount('/content/drive')"
      ]
    },
    {
      "cell_type": "code",
      "execution_count": 23,
      "metadata": {
        "id": "Emlc9e7Nt3WJ"
      },
      "outputs": [],
      "source": []
    },
    {
      "cell_type": "code",
      "execution_count": 23,
      "metadata": {
        "id": "DgvLPzobJ1l_"
      },
      "outputs": [],
      "source": []
    },
    {
      "cell_type": "code",
      "execution_count": 23,
      "metadata": {
        "id": "NMyak5Z5J1bs"
      },
      "outputs": [],
      "source": []
    },
    {
      "cell_type": "code",
      "execution_count": 23,
      "metadata": {
        "id": "9RyW_rRRJ1Tn"
      },
      "outputs": [],
      "source": []
    }
  ],
  "metadata": {
    "colab": {
      "provenance": []
    },
    "kernelspec": {
      "display_name": "Python 3",
      "name": "python3"
    },
    "language_info": {
      "name": "python"
    }
  },
  "nbformat": 4,
  "nbformat_minor": 0
}
